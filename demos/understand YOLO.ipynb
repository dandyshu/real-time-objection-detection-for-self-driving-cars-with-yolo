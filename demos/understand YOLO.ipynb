{
 "cells": [
  {
   "cell_type": "code",
   "execution_count": 1,
   "metadata": {
    "collapsed": true
   },
   "outputs": [],
   "source": [
    "import numpy as np "
   ]
  },
  {
   "cell_type": "code",
   "execution_count": null,
   "metadata": {
    "collapsed": true
   },
   "outputs": [],
   "source": [
    "# 1 of 20: cat, dog, bike, bus .... \n",
    "# vec 30\n",
    "out = np.random.rand(7,7,30)\n",
    "i=5\n",
    "j=0\n",
    "one = out[i,j,:]\n",
    "cls = one[11:30] # 1 hot of 20 possible classes\n",
    "0< cls <1->prob\n",
    "\n",
    "box1 = one[0:5]-> c(object),x,y,w,h\n",
    "\n",
    "box2 = one[5:10]\n",
    "\n",
    "info we need-> centerx, centery, width, height \n",
    "centerx = which i, and which j , 0<x<1\n",
    "\n",
    "x/grid_size(16)\n",
    "mean(0.5) var\n",
    "c(0.5)\n",
    "w_real = 50 \n",
    "h_real = 100\n",
    "img_size = 448\n",
    "w = w_real/img_size\n",
    "h\n",
    "\n",
    "\n",
    "out.shape = (7,7,5)->c, x,y,w,h\n",
    "there is a cat if c==1, no cat if c==0, # of clase is 1, use either 0 or 1 to identify if there is a cat \n",
    "\n",
    "\n",
    "i ,j , x ,h ->cx ,cy \n",
    "\n",
    "cx = i*dscale(2**how many stride==2)+x*dscale\n",
    "cy = j*dscale(2**how many stride==2)+y*dscale"
   ]
  }
 ],
 "metadata": {
  "kernelspec": {
   "display_name": "Python 2",
   "language": "python",
   "name": "python2"
  },
  "language_info": {
   "codemirror_mode": {
    "name": "ipython",
    "version": 2
   },
   "file_extension": ".py",
   "mimetype": "text/x-python",
   "name": "python",
   "nbconvert_exporter": "python",
   "pygments_lexer": "ipython2",
   "version": "2.7.12"
  }
 },
 "nbformat": 4,
 "nbformat_minor": 2
}
