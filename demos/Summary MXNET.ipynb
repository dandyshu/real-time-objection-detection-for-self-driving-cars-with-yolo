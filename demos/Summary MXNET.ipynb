{
 "cells": [
  {
   "cell_type": "code",
   "execution_count": 1,
   "metadata": {
    "collapsed": true
   },
   "outputs": [],
   "source": [
    "import mxnet as mx "
   ]
  },
  {
   "cell_type": "code",
   "execution_count": null,
   "metadata": {},
   "outputs": [],
   "source": [
    "# Data Perpare \n",
    "mx.recordio.MXIndexedRecordIO # create empty .rec \n",
    "mx.recordio.IRHeader # label \n",
    "mx.recordio.pack_img # pack img with label \n",
    "mx.io.ImageRecordIter # read "
   ]
  },
  {
   "cell_type": "code",
   "execution_count": null,
   "metadata": {},
   "outputs": [],
   "source": [
    "# Model definition \n",
    "mx.sym.Variable\n",
    "# data = mx.sym.Variable('data')\n",
    "# out = VGG(data)\n",
    "mx.sym.Convolution\n",
    "mx.sym.BatchNorm\n",
    "mx.sym.Activation\n",
    "mx.sym.LinearRegressionOutput \n",
    "mx.sym.reshape\n",
    "mx.sym.transpose \n",
    "mx.sym.split \n",
    "mx.sym.MakeLoss\n",
    "mx.sym.Group\n",
    "mx.sym.BlockGrad\n",
    "# if sym is a symbol \n",
    "sym = mx.sym.Variable('someVar')\n",
    "sym.get_internals\n",
    "sym.list_arguments\n",
    "sym.list_outputs"
   ]
  },
  {
   "cell_type": "code",
   "execution_count": null,
   "metadata": {
    "collapsed": true
   },
   "outputs": [],
   "source": [
    "# Model Training/Testing \n",
    "mx.model.load_checkpoint\n",
    "# to bind mem to sym \n",
    "mx.mod.Module\n",
    "# for metric \n",
    "mx.metric.create\n",
    "# save a model \n",
    "mx.callback.do_checkpoint\n",
    "# print speed and print metric \n",
    "mx.callback.Speedometer\n",
    "# learning rate scheduler \n",
    "mx.lr_scheduler.FactorScheduler\n",
    "# param init \n",
    "mx.init\n",
    "# for monitor (debugging)\n",
    "mx.mon.Monitor"
   ]
  },
  {
   "cell_type": "code",
   "execution_count": 6,
   "metadata": {
    "scrolled": false
   },
   "outputs": [
    {
     "name": "stdout",
     "output_type": "stream",
     "text": [
      "Help on function Group in module mxnet.symbol:\n",
      "\n",
      "Group(symbols)\n",
      "    Creates a symbol that contains a collection of other symbols, grouped together.\n",
      "    \n",
      "    Example usage:\n",
      "    ----------\n",
      "    >>> a = mx.sym.Variable('a')\n",
      "    >>> b = mx.sym.Variable('b')\n",
      "    >>> mx.sym.Group([a,b])\n",
      "    <Symbol Grouped>\n",
      "    \n",
      "    Parameters\n",
      "    ----------\n",
      "    symbols : list\n",
      "        List of symbols to be grouped.\n",
      "    \n",
      "    Returns\n",
      "    -------\n",
      "    sym : Symbol\n",
      "        A group symbol.\n",
      "\n"
     ]
    }
   ],
   "source": []
  }
 ],
 "metadata": {
  "kernelspec": {
   "display_name": "Python 2",
   "language": "python",
   "name": "python2"
  },
  "language_info": {
   "codemirror_mode": {
    "name": "ipython",
    "version": 2
   },
   "file_extension": ".py",
   "mimetype": "text/x-python",
   "name": "python",
   "nbconvert_exporter": "python",
   "pygments_lexer": "ipython2",
   "version": "2.7.12"
  }
 },
 "nbformat": 4,
 "nbformat_minor": 2
}
