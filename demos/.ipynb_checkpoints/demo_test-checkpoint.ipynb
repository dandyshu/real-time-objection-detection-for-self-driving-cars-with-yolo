{
 "cells": [
  {
   "cell_type": "code",
   "execution_count": 2,
   "metadata": {},
   "outputs": [
    {
     "ename": "ValueError",
     "evalue": "Attempted relative import in non-package",
     "output_type": "error",
     "traceback": [
      "\u001b[0;31m---------------------------------------------------------------------------\u001b[0m",
      "\u001b[0;31mValueError\u001b[0m                                Traceback (most recent call last)",
      "\u001b[0;32m<ipython-input-2-e43063e03ccd>\u001b[0m in \u001b[0;36m<module>\u001b[0;34m()\u001b[0m\n\u001b[1;32m      3\u001b[0m \u001b[0;32mimport\u001b[0m \u001b[0mnumpy\u001b[0m \u001b[0;32mas\u001b[0m \u001b[0mnp\u001b[0m\u001b[0;34m\u001b[0m\u001b[0m\n\u001b[1;32m      4\u001b[0m \u001b[0;32mimport\u001b[0m \u001b[0mmxnet\u001b[0m \u001b[0;32mas\u001b[0m \u001b[0mmx\u001b[0m\u001b[0;34m\u001b[0m\u001b[0m\n\u001b[0;32m----> 5\u001b[0;31m \u001b[0;32mfrom\u001b[0m \u001b[0;34m.\u001b[0m\u001b[0;34m.\u001b[0m\u001b[0mSymbolsymbol\u001b[0m \u001b[0;32mimport\u001b[0m \u001b[0mget_resnet_model\u001b[0m\u001b[0;34m\u001b[0m\u001b[0m\n\u001b[0m\u001b[1;32m      6\u001b[0m \u001b[0;31m# from symbol import YOLO_loss\u001b[0m\u001b[0;34m\u001b[0m\u001b[0;34m\u001b[0m\u001b[0m\n\u001b[1;32m      7\u001b[0m \u001b[0;32mfrom\u001b[0m \u001b[0mdata_ulti\u001b[0m \u001b[0;32mimport\u001b[0m \u001b[0mget_iterator\u001b[0m\u001b[0;34m\u001b[0m\u001b[0m\n",
      "\u001b[0;31mValueError\u001b[0m: Attempted relative import in non-package"
     ]
    }
   ],
   "source": [
    "import matplotlib.pyplot as plt\n",
    "import matplotlib.patches as patches\n",
    "import numpy as np\n",
    "import mxnet as mx \n",
    "from ..Symbol.symbol import get_resnet_model\n",
    "# from symbol import YOLO_loss\n",
    "from data_ulti import get_iterator"
   ]
  },
  {
   "cell_type": "code",
   "execution_count": null,
   "metadata": {
    "collapsed": true
   },
   "outputs": [],
   "source": [
    "def decodeBox(yolobox, size, dscale):\n",
    "    i, j, cx, cy, w, h, cls1, cls2, cls3, cls4 = yolobox\n",
    "    cxt = j*dscale + cx*dscale\n",
    "    cyt = i*dscale + cy*dscale\n",
    "    wt = w*size\n",
    "    ht = h*size\n",
    "    cls = np.argmax([cls1, cls2, cls3, cls4])\n",
    "    return [cxt, cyt, wt, ht, cls]\n",
    "\n",
    "def bboxdraw(img, label, dscale=32):\n",
    "    assert label.shape == (7,7,9)\n",
    "    size = img.shape[1]\n",
    "    ilist, jlist = np.where(label[:,:,0]>0.2)\n",
    "    \n",
    "    # Create figure and axes\n",
    "    fig,ax = plt.subplots(1)\n",
    "    ax.imshow(np.uint8(img))\n",
    "    for i,j in zip(ilist, jlist): \n",
    "        cx,cy,w,h,cls1, cls2, cls3, cls4 = label[i,j,1:]\n",
    "        cxt, cyt, wt ,ht, cls = decodeBox([i, j, cx,cy,w,h,cls1, cls2, cls3, cls4], size, dscale)\n",
    "        # Create a Rectangle patch\n",
    "        rect = patches.Rectangle((cxt-wt/2,cyt-ht/2), wt,ht,linewidth=1,edgecolor='r',facecolor='none')\n",
    "\n",
    "        # Add the patch to the Axes\n",
    "        ax.add_patch(rect)\n",
    "    \n",
    "        plt.plot(int(cxt), int(cyt), '*')\n",
    "    plt.show()"
   ]
  },
  {
   "cell_type": "code",
   "execution_count": null,
   "metadata": {
    "collapsed": true
   },
   "outputs": [],
   "source": [
    "data = mx.io.ImageRecordIter(path_imgrec='../DATA_rec/drive_small.rec',\n",
    "                             data_shape=(3,224,224),\n",
    "                             label_width=7*7*9, \n",
    "                             batch_size=1,)"
   ]
  },
  {
   "cell_type": "code",
   "execution_count": null,
   "metadata": {},
   "outputs": [],
   "source": [
    "# get sym \n",
    "sym, args_params, aux_params = mx.model.load_checkpoint('../drive_small_detect', 600)\n",
    "logit = sym.get_internals()['logit_output']\n",
    "mod = mx.mod.Module(symbol=logit, context=mx.gpu(0))\n",
    "mod.bind(data.provide_data)\n",
    "mod.init_params(allow_missing=False, arg_params=args_params, aux_params=aux_params, \n",
    "                initializer=mx.init.Xavier(magnitude=2,rnd_type='gaussian',factor_type='in'))\n",
    "out = mod.predict(eval_data=data, num_batch=10)"
   ]
  },
  {
   "cell_type": "code",
   "execution_count": null,
   "metadata": {},
   "outputs": [],
   "source": [
    "data.reset()\n",
    "batch = data.next()\n",
    "batch = data.next()\n",
    "batch = data.next()\n",
    "img = batch.data[0].asnumpy()[0].transpose((1,2,0))\n",
    "label = batch.label[0].asnumpy().reshape((7,7,9))\n",
    "pred = (out.asnumpy()[2]+1)/2\n",
    "print pred.shape"
   ]
  },
  {
   "cell_type": "code",
   "execution_count": null,
   "metadata": {},
   "outputs": [],
   "source": [
    "print \"Prediction\"\n",
    "bboxdraw(img, pred)"
   ]
  },
  {
   "cell_type": "code",
   "execution_count": null,
   "metadata": {
    "collapsed": true
   },
   "outputs": [],
   "source": []
  },
  {
   "cell_type": "code",
   "execution_count": null,
   "metadata": {},
   "outputs": [],
   "source": [
    "print \"Ground Truth\"\n",
    "bboxdraw(img, label)"
   ]
  },
  {
   "cell_type": "code",
   "execution_count": null,
   "metadata": {
    "collapsed": true
   },
   "outputs": [],
   "source": []
  }
 ],
 "metadata": {
  "kernelspec": {
   "display_name": "Python 2",
   "language": "python",
   "name": "python2"
  },
  "language_info": {
   "codemirror_mode": {
    "name": "ipython",
    "version": 2
   },
   "file_extension": ".py",
   "mimetype": "text/x-python",
   "name": "python",
   "nbconvert_exporter": "python",
   "pygments_lexer": "ipython2",
   "version": "2.7.12"
  }
 },
 "nbformat": 4,
 "nbformat_minor": 2
}
